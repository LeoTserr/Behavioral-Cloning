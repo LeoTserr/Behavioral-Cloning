{
 "cells": [
  {
   "cell_type": "markdown",
   "metadata": {},
   "source": [
    "# Udacity: https://github.com/udacity/self-driving-car-sim\n",
    "## Data used for training are available for download at  https://s3.amazonaws.com/video.udacity-data.com/topher/2016/December/584f6edd_data/data.zip"
   ]
  },
  {
   "cell_type": "markdown",
   "metadata": {},
   "source": [
    "## Libs used"
   ]
  },
  {
   "cell_type": "code",
   "execution_count": 1,
   "metadata": {},
   "outputs": [
    {
     "name": "stderr",
     "output_type": "stream",
     "text": [
      "Using TensorFlow backend.\n"
     ]
    }
   ],
   "source": [
    "import cv2\n",
    "import numpy as np\n",
    "import pandas as pd\n",
    "import matplotlib.pyplot as plt\n",
    "from keras.models import Sequential\n",
    "from keras.layers import Dropout, Flatten, Dense, BatchNormalization\n",
    "from keras.layers.convolutional import MaxPooling2D, Conv2D\n",
    "from keras.optimizers import Adam"
   ]
  },
  {
   "cell_type": "markdown",
   "metadata": {},
   "source": [
    "## Tensorflow and Keras version used"
   ]
  },
  {
   "cell_type": "code",
   "execution_count": 2,
   "metadata": {},
   "outputs": [
    {
     "name": "stdout",
     "output_type": "stream",
     "text": [
      "2.2.4\n"
     ]
    }
   ],
   "source": [
    "import keras\n",
    "print(keras.__version__)"
   ]
  },
  {
   "cell_type": "code",
   "execution_count": 3,
   "metadata": {},
   "outputs": [
    {
     "name": "stdout",
     "output_type": "stream",
     "text": [
      "1.8.0\n"
     ]
    }
   ],
   "source": [
    "import tensorflow\n",
    "print(tensorflow.__version__)"
   ]
  },
  {
   "cell_type": "markdown",
   "metadata": {},
   "source": [
    "## Dataset"
   ]
  },
  {
   "cell_type": "code",
   "execution_count": 4,
   "metadata": {},
   "outputs": [],
   "source": [
    "df = pd.read_csv(\"driving_log.csv\")"
   ]
  },
  {
   "cell_type": "markdown",
   "metadata": {},
   "source": [
    "## Checking the data"
   ]
  },
  {
   "cell_type": "code",
   "execution_count": 5,
   "metadata": {
    "scrolled": true
   },
   "outputs": [
    {
     "data": {
      "text/html": [
       "<div>\n",
       "<style scoped>\n",
       "    .dataframe tbody tr th:only-of-type {\n",
       "        vertical-align: middle;\n",
       "    }\n",
       "\n",
       "    .dataframe tbody tr th {\n",
       "        vertical-align: top;\n",
       "    }\n",
       "\n",
       "    .dataframe thead th {\n",
       "        text-align: right;\n",
       "    }\n",
       "</style>\n",
       "<table border=\"1\" class=\"dataframe\">\n",
       "  <thead>\n",
       "    <tr style=\"text-align: right;\">\n",
       "      <th></th>\n",
       "      <th>center</th>\n",
       "      <th>left</th>\n",
       "      <th>right</th>\n",
       "      <th>steering</th>\n",
       "      <th>throttle</th>\n",
       "      <th>brake</th>\n",
       "      <th>speed</th>\n",
       "    </tr>\n",
       "  </thead>\n",
       "  <tbody>\n",
       "    <tr>\n",
       "      <th>0</th>\n",
       "      <td>IMG/center_2016_12_01_13_30_48_287.jpg</td>\n",
       "      <td>IMG/left_2016_12_01_13_30_48_287.jpg</td>\n",
       "      <td>IMG/right_2016_12_01_13_30_48_287.jpg</td>\n",
       "      <td>0.0</td>\n",
       "      <td>0.0</td>\n",
       "      <td>0.0</td>\n",
       "      <td>22.148290</td>\n",
       "    </tr>\n",
       "    <tr>\n",
       "      <th>1</th>\n",
       "      <td>IMG/center_2016_12_01_13_30_48_404.jpg</td>\n",
       "      <td>IMG/left_2016_12_01_13_30_48_404.jpg</td>\n",
       "      <td>IMG/right_2016_12_01_13_30_48_404.jpg</td>\n",
       "      <td>0.0</td>\n",
       "      <td>0.0</td>\n",
       "      <td>0.0</td>\n",
       "      <td>21.879630</td>\n",
       "    </tr>\n",
       "    <tr>\n",
       "      <th>2</th>\n",
       "      <td>IMG/center_2016_12_01_13_31_12_937.jpg</td>\n",
       "      <td>IMG/left_2016_12_01_13_31_12_937.jpg</td>\n",
       "      <td>IMG/right_2016_12_01_13_31_12_937.jpg</td>\n",
       "      <td>0.0</td>\n",
       "      <td>0.0</td>\n",
       "      <td>0.0</td>\n",
       "      <td>1.453011</td>\n",
       "    </tr>\n",
       "    <tr>\n",
       "      <th>3</th>\n",
       "      <td>IMG/center_2016_12_01_13_31_13_037.jpg</td>\n",
       "      <td>IMG/left_2016_12_01_13_31_13_037.jpg</td>\n",
       "      <td>IMG/right_2016_12_01_13_31_13_037.jpg</td>\n",
       "      <td>0.0</td>\n",
       "      <td>0.0</td>\n",
       "      <td>0.0</td>\n",
       "      <td>1.438419</td>\n",
       "    </tr>\n",
       "    <tr>\n",
       "      <th>4</th>\n",
       "      <td>IMG/center_2016_12_01_13_31_13_177.jpg</td>\n",
       "      <td>IMG/left_2016_12_01_13_31_13_177.jpg</td>\n",
       "      <td>IMG/right_2016_12_01_13_31_13_177.jpg</td>\n",
       "      <td>0.0</td>\n",
       "      <td>0.0</td>\n",
       "      <td>0.0</td>\n",
       "      <td>1.418236</td>\n",
       "    </tr>\n",
       "  </tbody>\n",
       "</table>\n",
       "</div>"
      ],
      "text/plain": [
       "                                   center  \\\n",
       "0  IMG/center_2016_12_01_13_30_48_287.jpg   \n",
       "1  IMG/center_2016_12_01_13_30_48_404.jpg   \n",
       "2  IMG/center_2016_12_01_13_31_12_937.jpg   \n",
       "3  IMG/center_2016_12_01_13_31_13_037.jpg   \n",
       "4  IMG/center_2016_12_01_13_31_13_177.jpg   \n",
       "\n",
       "                                    left  \\\n",
       "0   IMG/left_2016_12_01_13_30_48_287.jpg   \n",
       "1   IMG/left_2016_12_01_13_30_48_404.jpg   \n",
       "2   IMG/left_2016_12_01_13_31_12_937.jpg   \n",
       "3   IMG/left_2016_12_01_13_31_13_037.jpg   \n",
       "4   IMG/left_2016_12_01_13_31_13_177.jpg   \n",
       "\n",
       "                                    right  steering  throttle  brake  \\\n",
       "0   IMG/right_2016_12_01_13_30_48_287.jpg       0.0       0.0    0.0   \n",
       "1   IMG/right_2016_12_01_13_30_48_404.jpg       0.0       0.0    0.0   \n",
       "2   IMG/right_2016_12_01_13_31_12_937.jpg       0.0       0.0    0.0   \n",
       "3   IMG/right_2016_12_01_13_31_13_037.jpg       0.0       0.0    0.0   \n",
       "4   IMG/right_2016_12_01_13_31_13_177.jpg       0.0       0.0    0.0   \n",
       "\n",
       "       speed  \n",
       "0  22.148290  \n",
       "1  21.879630  \n",
       "2   1.453011  \n",
       "3   1.438419  \n",
       "4   1.418236  "
      ]
     },
     "execution_count": 5,
     "metadata": {},
     "output_type": "execute_result"
    }
   ],
   "source": [
    "df.head()"
   ]
  },
  {
   "cell_type": "markdown",
   "metadata": {},
   "source": [
    "## Checking the links of the images, and fixing them"
   ]
  },
  {
   "cell_type": "code",
   "execution_count": 6,
   "metadata": {},
   "outputs": [
    {
     "data": {
      "text/plain": [
       "'IMG/center_2016_12_01_13_30_48_287.jpg'"
      ]
     },
     "execution_count": 6,
     "metadata": {},
     "output_type": "execute_result"
    }
   ],
   "source": [
    "df['center'][0]"
   ]
  },
  {
   "cell_type": "code",
   "execution_count": 7,
   "metadata": {},
   "outputs": [
    {
     "data": {
      "text/plain": [
       "' IMG/left_2016_12_01_13_30_48_287.jpg'"
      ]
     },
     "execution_count": 7,
     "metadata": {},
     "output_type": "execute_result"
    }
   ],
   "source": [
    "df['left'][0]"
   ]
  },
  {
   "cell_type": "code",
   "execution_count": 8,
   "metadata": {},
   "outputs": [
    {
     "data": {
      "text/plain": [
       "' IMG/right_2016_12_01_13_30_48_287.jpg'"
      ]
     },
     "execution_count": 8,
     "metadata": {},
     "output_type": "execute_result"
    }
   ],
   "source": [
    "df['right'][0]"
   ]
  },
  {
   "cell_type": "markdown",
   "metadata": {},
   "source": [
    "## Remove all the spaces ' IMG/right_2016_12_01_13_30_48_287.jpg'"
   ]
  },
  {
   "cell_type": "code",
   "execution_count": 9,
   "metadata": {},
   "outputs": [],
   "source": [
    "df[\"left\"] = df[\"left\"].str.lstrip()"
   ]
  },
  {
   "cell_type": "code",
   "execution_count": 10,
   "metadata": {},
   "outputs": [],
   "source": [
    "df[\"right\"] = df[\"right\"].str.lstrip()"
   ]
  },
  {
   "cell_type": "markdown",
   "metadata": {},
   "source": [
    "## Check if everything is ok"
   ]
  },
  {
   "cell_type": "code",
   "execution_count": 11,
   "metadata": {},
   "outputs": [
    {
     "data": {
      "text/plain": [
       "'IMG/left_2016_12_01_13_30_48_287.jpg'"
      ]
     },
     "execution_count": 11,
     "metadata": {},
     "output_type": "execute_result"
    }
   ],
   "source": [
    "df['left'][0]"
   ]
  },
  {
   "cell_type": "code",
   "execution_count": 12,
   "metadata": {},
   "outputs": [
    {
     "data": {
      "text/plain": [
       "'IMG/right_2016_12_01_13_30_48_287.jpg'"
      ]
     },
     "execution_count": 12,
     "metadata": {},
     "output_type": "execute_result"
    }
   ],
   "source": [
    "df['right'][0]"
   ]
  },
  {
   "cell_type": "code",
   "execution_count": 13,
   "metadata": {},
   "outputs": [
    {
     "data": {
      "text/html": [
       "<div>\n",
       "<style scoped>\n",
       "    .dataframe tbody tr th:only-of-type {\n",
       "        vertical-align: middle;\n",
       "    }\n",
       "\n",
       "    .dataframe tbody tr th {\n",
       "        vertical-align: top;\n",
       "    }\n",
       "\n",
       "    .dataframe thead th {\n",
       "        text-align: right;\n",
       "    }\n",
       "</style>\n",
       "<table border=\"1\" class=\"dataframe\">\n",
       "  <thead>\n",
       "    <tr style=\"text-align: right;\">\n",
       "      <th></th>\n",
       "      <th>center</th>\n",
       "      <th>left</th>\n",
       "      <th>right</th>\n",
       "      <th>steering</th>\n",
       "      <th>throttle</th>\n",
       "      <th>brake</th>\n",
       "      <th>speed</th>\n",
       "    </tr>\n",
       "  </thead>\n",
       "  <tbody>\n",
       "    <tr>\n",
       "      <th>0</th>\n",
       "      <td>IMG/center_2016_12_01_13_30_48_287.jpg</td>\n",
       "      <td>IMG/left_2016_12_01_13_30_48_287.jpg</td>\n",
       "      <td>IMG/right_2016_12_01_13_30_48_287.jpg</td>\n",
       "      <td>0.0</td>\n",
       "      <td>0.0</td>\n",
       "      <td>0.0</td>\n",
       "      <td>22.148290</td>\n",
       "    </tr>\n",
       "    <tr>\n",
       "      <th>1</th>\n",
       "      <td>IMG/center_2016_12_01_13_30_48_404.jpg</td>\n",
       "      <td>IMG/left_2016_12_01_13_30_48_404.jpg</td>\n",
       "      <td>IMG/right_2016_12_01_13_30_48_404.jpg</td>\n",
       "      <td>0.0</td>\n",
       "      <td>0.0</td>\n",
       "      <td>0.0</td>\n",
       "      <td>21.879630</td>\n",
       "    </tr>\n",
       "    <tr>\n",
       "      <th>2</th>\n",
       "      <td>IMG/center_2016_12_01_13_31_12_937.jpg</td>\n",
       "      <td>IMG/left_2016_12_01_13_31_12_937.jpg</td>\n",
       "      <td>IMG/right_2016_12_01_13_31_12_937.jpg</td>\n",
       "      <td>0.0</td>\n",
       "      <td>0.0</td>\n",
       "      <td>0.0</td>\n",
       "      <td>1.453011</td>\n",
       "    </tr>\n",
       "    <tr>\n",
       "      <th>3</th>\n",
       "      <td>IMG/center_2016_12_01_13_31_13_037.jpg</td>\n",
       "      <td>IMG/left_2016_12_01_13_31_13_037.jpg</td>\n",
       "      <td>IMG/right_2016_12_01_13_31_13_037.jpg</td>\n",
       "      <td>0.0</td>\n",
       "      <td>0.0</td>\n",
       "      <td>0.0</td>\n",
       "      <td>1.438419</td>\n",
       "    </tr>\n",
       "    <tr>\n",
       "      <th>4</th>\n",
       "      <td>IMG/center_2016_12_01_13_31_13_177.jpg</td>\n",
       "      <td>IMG/left_2016_12_01_13_31_13_177.jpg</td>\n",
       "      <td>IMG/right_2016_12_01_13_31_13_177.jpg</td>\n",
       "      <td>0.0</td>\n",
       "      <td>0.0</td>\n",
       "      <td>0.0</td>\n",
       "      <td>1.418236</td>\n",
       "    </tr>\n",
       "  </tbody>\n",
       "</table>\n",
       "</div>"
      ],
      "text/plain": [
       "                                   center  \\\n",
       "0  IMG/center_2016_12_01_13_30_48_287.jpg   \n",
       "1  IMG/center_2016_12_01_13_30_48_404.jpg   \n",
       "2  IMG/center_2016_12_01_13_31_12_937.jpg   \n",
       "3  IMG/center_2016_12_01_13_31_13_037.jpg   \n",
       "4  IMG/center_2016_12_01_13_31_13_177.jpg   \n",
       "\n",
       "                                   left  \\\n",
       "0  IMG/left_2016_12_01_13_30_48_287.jpg   \n",
       "1  IMG/left_2016_12_01_13_30_48_404.jpg   \n",
       "2  IMG/left_2016_12_01_13_31_12_937.jpg   \n",
       "3  IMG/left_2016_12_01_13_31_13_037.jpg   \n",
       "4  IMG/left_2016_12_01_13_31_13_177.jpg   \n",
       "\n",
       "                                   right  steering  throttle  brake      speed  \n",
       "0  IMG/right_2016_12_01_13_30_48_287.jpg       0.0       0.0    0.0  22.148290  \n",
       "1  IMG/right_2016_12_01_13_30_48_404.jpg       0.0       0.0    0.0  21.879630  \n",
       "2  IMG/right_2016_12_01_13_31_12_937.jpg       0.0       0.0    0.0   1.453011  \n",
       "3  IMG/right_2016_12_01_13_31_13_037.jpg       0.0       0.0    0.0   1.438419  \n",
       "4  IMG/right_2016_12_01_13_31_13_177.jpg       0.0       0.0    0.0   1.418236  "
      ]
     },
     "execution_count": 13,
     "metadata": {},
     "output_type": "execute_result"
    }
   ],
   "source": [
    "df.head()"
   ]
  },
  {
   "cell_type": "code",
   "execution_count": 14,
   "metadata": {},
   "outputs": [
    {
     "data": {
      "text/plain": [
       "8036"
      ]
     },
     "execution_count": 14,
     "metadata": {},
     "output_type": "execute_result"
    }
   ],
   "source": [
    "len(df)"
   ]
  },
  {
   "cell_type": "markdown",
   "metadata": {},
   "source": [
    "## Create the image batch generator and preprocess the images. Batch norm by /255"
   ]
  },
  {
   "cell_type": "code",
   "execution_count": 15,
   "metadata": {},
   "outputs": [],
   "source": [
    "def train_gen(batch_size):\n",
    "    while True:\n",
    "        \n",
    "        steps=0\n",
    "        angle = []\n",
    "        img =[]\n",
    "        for k,row in df.iterrows():\n",
    "            \n",
    "            steps = steps+1\n",
    "            \n",
    "            current_angle =np.float32(row['steering']) \n",
    "\n",
    "            #Center image\n",
    "            cent_0 = cv2.imread(row['center'],-1)\n",
    "            cent_0=preprop(cent_0)\n",
    "\n",
    "            img.append(np.array(cent_0))\n",
    "            angle.append(np.array(current_angle))\n",
    "\n",
    "            img.append(np.fliplr(cent_0))\n",
    "            angle.append(np.array(-current_angle))\n",
    "\n",
    "            # Left image \n",
    "            left_0 = cv2.imread(row['left'],-1)\n",
    "            left_0 = preprop(left_0)\n",
    "            img.append(np.array(left_0))\n",
    "            angle.append(current_angle+0.45)\n",
    "\n",
    "            # Right image\n",
    "            right_0 = cv2.imread(row['right'],-1)\n",
    "            right_0 = preprop(right_0)\n",
    "\n",
    "            img.append(np.array(right_0))\n",
    "            angle.append(current_angle-0.45)\n",
    "            img_reshaped = np.array(img)\n",
    "            img_reshaped = img_reshaped.reshape(-1,75,75,3)\n",
    "            \n",
    "            if steps == batch_size:\n",
    "                img=np.array(img)\n",
    "                yield (np.array(img/255), np.array(angle))\n",
    "                steps = 0\n",
    "                angle = []\n",
    "                img =[]\n",
    "                \n",
    "def preprop(image):\n",
    "    image = cv2.cvtColor(cv2.resize(image[90:140,:], (75,75)), cv2.COLOR_BGR2RGB)\n",
    "    image = cv2.cvtColor(cv2.resize(image[:-20,:,], (75,75)), cv2.COLOR_BGR2RGB)\n",
    "    return image"
   ]
  },
  {
   "cell_type": "markdown",
   "metadata": {},
   "source": [
    "## Generator , size 32 for one batch."
   ]
  },
  {
   "cell_type": "code",
   "execution_count": 16,
   "metadata": {},
   "outputs": [],
   "source": [
    "train_generator = train_gen(32)"
   ]
  },
  {
   "cell_type": "markdown",
   "metadata": {},
   "source": [
    "## Check generator for one batch"
   ]
  },
  {
   "cell_type": "code",
   "execution_count": 17,
   "metadata": {},
   "outputs": [],
   "source": [
    "image, target = next(train_generator)"
   ]
  },
  {
   "cell_type": "markdown",
   "metadata": {},
   "source": [
    "## 1 batch: 32*4 = 128. [Center image, Flipped Center image, Left image, Right image ]"
   ]
  },
  {
   "cell_type": "code",
   "execution_count": 18,
   "metadata": {
    "scrolled": true
   },
   "outputs": [
    {
     "data": {
      "text/plain": [
       "(128, 75, 75, 3)"
      ]
     },
     "execution_count": 18,
     "metadata": {},
     "output_type": "execute_result"
    }
   ],
   "source": [
    "np.shape(image)"
   ]
  },
  {
   "cell_type": "markdown",
   "metadata": {},
   "source": [
    "## Check target size"
   ]
  },
  {
   "cell_type": "code",
   "execution_count": 19,
   "metadata": {
    "scrolled": true
   },
   "outputs": [
    {
     "data": {
      "text/plain": [
       "(128,)"
      ]
     },
     "execution_count": 19,
     "metadata": {},
     "output_type": "execute_result"
    }
   ],
   "source": [
    "np.shape(target)"
   ]
  },
  {
   "cell_type": "markdown",
   "metadata": {},
   "source": [
    "## Check images and targets"
   ]
  },
  {
   "cell_type": "code",
   "execution_count": 20,
   "metadata": {},
   "outputs": [
    {
     "data": {
      "image/png": "[encoded data removed]",
      "text/plain": [
       "<Figure size 432x288 with 1 Axes>"
      ]
     },
     "metadata": {
      "needs_background": "light"
     },
     "output_type": "display_data"
    }
   ],
   "source": [
    "plt.imshow(image[0]);\n",
    "# Center image"
   ]
  },
  {
   "cell_type": "code",
   "execution_count": 21,
   "metadata": {},
   "outputs": [
    {
     "data": {
      "text/plain": [
       "0.0"
      ]
     },
     "execution_count": 21,
     "metadata": {},
     "output_type": "execute_result"
    }
   ],
   "source": [
    "target[0]\n",
    "# Center target"
   ]
  },
  {
   "cell_type": "code",
   "execution_count": null,
   "metadata": {},
   "outputs": [],
   "source": []
  },
  {
   "cell_type": "code",
   "execution_count": 22,
   "metadata": {},
   "outputs": [
    {
     "data": {
      "image/png": "[encoded data removed]",
      "text/plain": [
       "<Figure size 432x288 with 1 Axes>"
      ]
     },
     "metadata": {
      "needs_background": "light"
     },
     "output_type": "display_data"
    }
   ],
   "source": [
    "plt.imshow(image[1]);\n",
    "# Center flipped image"
   ]
  },
  {
   "cell_type": "code",
   "execution_count": 23,
   "metadata": {},
   "outputs": [
    {
     "data": {
      "text/plain": [
       "-0.0"
      ]
     },
     "execution_count": 23,
     "metadata": {},
     "output_type": "execute_result"
    }
   ],
   "source": [
    "target[1]\n",
    "# Center flipped target"
   ]
  },
  {
   "cell_type": "code",
   "execution_count": null,
   "metadata": {},
   "outputs": [],
   "source": []
  },
  {
   "cell_type": "code",
   "execution_count": 24,
   "metadata": {},
   "outputs": [
    {
     "data": {
      "image/png": "[encoded data removed]",
      "text/plain": [
       "<Figure size 432x288 with 1 Axes>"
      ]
     },
     "metadata": {
      "needs_background": "light"
     },
     "output_type": "display_data"
    }
   ],
   "source": [
    "plt.imshow(image[2]);\n",
    "# Left image"
   ]
  },
  {
   "cell_type": "code",
   "execution_count": 25,
   "metadata": {},
   "outputs": [
    {
     "data": {
      "text/plain": [
       "0.45"
      ]
     },
     "execution_count": 25,
     "metadata": {},
     "output_type": "execute_result"
    }
   ],
   "source": [
    "target[2]\n",
    "# Left image target"
   ]
  },
  {
   "cell_type": "code",
   "execution_count": null,
   "metadata": {},
   "outputs": [],
   "source": []
  },
  {
   "cell_type": "code",
   "execution_count": 26,
   "metadata": {},
   "outputs": [
    {
     "data": {
      "image/png": "[encoded data removed]",
      "text/plain": [
       "<Figure size 432x288 with 1 Axes>"
      ]
     },
     "metadata": {
      "needs_background": "light"
     },
     "output_type": "display_data"
    }
   ],
   "source": [
    "plt.imshow(image[3]);\n",
    "# Right image"
   ]
  },
  {
   "cell_type": "code",
   "execution_count": 27,
   "metadata": {},
   "outputs": [
    {
     "data": {
      "text/plain": [
       "-0.45"
      ]
     },
     "execution_count": 27,
     "metadata": {},
     "output_type": "execute_result"
    }
   ],
   "source": [
    "target[3]\n",
    "# Right image target"
   ]
  },
  {
   "cell_type": "markdown",
   "metadata": {},
   "source": [
    "## Model definition."
   ]
  },
  {
   "cell_type": "code",
   "execution_count": 28,
   "metadata": {},
   "outputs": [],
   "source": [
    "model = Sequential()\n",
    "\n",
    "model.add(Conv2D(32, (5, 5),padding=\"valid\", strides=(2,2),input_shape=(75,75,3), activation = 'elu'))\n",
    "model.add(MaxPooling2D((4,4)))\n",
    "model.add(BatchNormalization())\n",
    "\n",
    "model.add(Conv2D(16, (3, 3),padding=\"valid\", strides=1, activation = 'elu'))\n",
    "model.add(MaxPooling2D((2,2)))\n",
    "\n",
    "model.add(Flatten())\n",
    "\n",
    "model.add(Dense(256, activation='elu'))\n",
    "model.add(Dropout(0.5))\n",
    "model.add(BatchNormalization())\n",
    "\n",
    "\n",
    "model.add(Dense(10, activation='elu'))\n",
    "\n",
    "model.add(Dense(1))\n",
    "\n",
    "model.compile(optimizer = Adam(lr=0.001),loss = 'mse', metrics = ['accuracy'])"
   ]
  },
  {
   "cell_type": "markdown",
   "metadata": {},
   "source": [
    "## Model summary"
   ]
  },
  {
   "cell_type": "code",
   "execution_count": 29,
   "metadata": {},
   "outputs": [
    {
     "name": "stdout",
     "output_type": "stream",
     "text": [
      "_________________________________________________________________\n",
      "Layer (type)                 Output Shape              Param #   \n",
      "=================================================================\n",
      "conv2d_1 (Conv2D)            (None, 36, 36, 32)        2432      \n",
      "_________________________________________________________________\n",
      "max_pooling2d_1 (MaxPooling2 (None, 9, 9, 32)          0         \n",
      "_________________________________________________________________\n",
      "batch_normalization_1 (Batch (None, 9, 9, 32)          128       \n",
      "_________________________________________________________________\n",
      "conv2d_2 (Conv2D)            (None, 7, 7, 16)          4624      \n",
      "_________________________________________________________________\n",
      "max_pooling2d_2 (MaxPooling2 (None, 3, 3, 16)          0         \n",
      "_________________________________________________________________\n",
      "flatten_1 (Flatten)          (None, 144)               0         \n",
      "_________________________________________________________________\n",
      "dense_1 (Dense)              (None, 256)               37120     \n",
      "_________________________________________________________________\n",
      "dropout_1 (Dropout)          (None, 256)               0         \n",
      "_________________________________________________________________\n",
      "batch_normalization_2 (Batch (None, 256)               1024      \n",
      "_________________________________________________________________\n",
      "dense_2 (Dense)              (None, 10)                2570      \n",
      "_________________________________________________________________\n",
      "dense_3 (Dense)              (None, 1)                 11        \n",
      "=================================================================\n",
      "Total params: 47,909\n",
      "Trainable params: 47,333\n",
      "Non-trainable params: 576\n",
      "_________________________________________________________________\n"
     ]
    }
   ],
   "source": [
    "model.summary()"
   ]
  },
  {
   "cell_type": "markdown",
   "metadata": {},
   "source": [
    "## Train"
   ]
  },
  {
   "cell_type": "code",
   "execution_count": 30,
   "metadata": {
    "scrolled": false
   },
   "outputs": [
    {
     "name": "stdout",
     "output_type": "stream",
     "text": [
      "Epoch 1/6\n",
      "251/251 [==============================] - 27s 108ms/step - loss: 0.2919 - acc: 0.2081\n",
      "Epoch 2/6\n",
      "251/251 [==============================] - 29s 115ms/step - loss: 0.0725 - acc: 0.2634\n",
      "Epoch 3/6\n",
      "251/251 [==============================] - 26s 104ms/step - loss: 0.0593 - acc: 0.2678\n",
      "Epoch 4/6\n",
      "251/251 [==============================] - 27s 106ms/step - loss: 0.0546 - acc: 0.2689\n",
      "Epoch 5/6\n",
      "251/251 [==============================] - 26s 104ms/step - loss: 0.0513 - acc: 0.2695\n",
      "Epoch 6/6\n",
      "251/251 [==============================] - 26s 104ms/step - loss: 0.0494 - acc: 0.2693\n"
     ]
    },
    {
     "data": {
      "text/plain": [
       "<keras.callbacks.History at 0x7fe529c3f630>"
      ]
     },
     "execution_count": 30,
     "metadata": {},
     "output_type": "execute_result"
    }
   ],
   "source": [
    "model.fit_generator(generator=train_generator, steps_per_epoch= 251, epochs= 6, verbose=1)"
   ]
  },
  {
   "cell_type": "markdown",
   "metadata": {},
   "source": [
    "## Check the predictions that the model makes"
   ]
  },
  {
   "cell_type": "code",
   "execution_count": 31,
   "metadata": {
    "scrolled": true
   },
   "outputs": [],
   "source": [
    "preds =model.predict_generator(generator=train_generator, steps=7)"
   ]
  },
  {
   "cell_type": "code",
   "execution_count": 32,
   "metadata": {},
   "outputs": [
    {
     "data": {
      "text/plain": [
       "array([[-1.12754196e-01],\n",
       "       [ 4.70524579e-02],\n",
       "       [ 2.96085536e-01],\n",
       "       [-2.90649354e-01],\n",
       "       [ 1.48337698e-02],\n",
       "       [-1.13654673e-01],\n",
       "       [ 3.72639894e-01],\n",
       "       [-2.58558869e-01],\n",
       "       [ 8.23116004e-02],\n",
       "       [-4.97572273e-02],\n",
       "       [ 3.62937987e-01],\n",
       "       [-2.68470705e-01],\n",
       "       [ 3.41031849e-02],\n",
       "       [-1.14294648e-01],\n",
       "       [ 3.49711359e-01],\n",
       "       [-2.35471711e-01],\n",
       "       [ 6.27167672e-02],\n",
       "       [-1.45753607e-01],\n",
       "       [ 3.67643267e-01],\n",
       "       [-2.40741476e-01],\n",
       "       [ 8.48558694e-02],\n",
       "       [-1.28528848e-01],\n",
       "       [ 3.67342263e-01],\n",
       "       [-2.17867896e-01],\n",
       "       [ 5.50698787e-02],\n",
       "       [-1.35126114e-01],\n",
       "       [ 4.10759866e-01],\n",
       "       [-2.56289840e-01],\n",
       "       [ 5.64559251e-02],\n",
       "       [-1.23283774e-01],\n",
       "       [ 4.41595852e-01],\n",
       "       [-2.30763778e-01],\n",
       "       [ 8.90000910e-02],\n",
       "       [-8.25032741e-02],\n",
       "       [ 3.72401237e-01],\n",
       "       [-2.53623903e-01],\n",
       "       [-4.29868698e-02],\n",
       "       [-7.13728219e-02],\n",
       "       [ 3.66059929e-01],\n",
       "       [-2.63632178e-01],\n",
       "       [-1.12780392e-01],\n",
       "       [ 2.21785456e-02],\n",
       "       [ 3.81834865e-01],\n",
       "       [-2.93760717e-01],\n",
       "       [-1.92242235e-01],\n",
       "       [ 8.28568786e-02],\n",
       "       [ 3.41435671e-01],\n",
       "       [-3.34893465e-01],\n",
       "       [-1.46520123e-01],\n",
       "       [ 7.68134445e-02],\n",
       "       [ 2.72090822e-01],\n",
       "       [-4.01217818e-01],\n",
       "       [-1.45094648e-01],\n",
       "       [ 1.65154859e-01],\n",
       "       [ 2.56839335e-01],\n",
       "       [-4.26858485e-01],\n",
       "       [-1.33987024e-01],\n",
       "       [ 1.31809577e-01],\n",
       "       [ 2.34769613e-01],\n",
       "       [-4.55054104e-01],\n",
       "       [-2.03057095e-01],\n",
       "       [ 1.49954751e-01],\n",
       "       [ 1.61354467e-01],\n",
       "       [-4.36096609e-01],\n",
       "       [-1.48946121e-01],\n",
       "       [ 1.48374453e-01],\n",
       "       [ 1.77400902e-01],\n",
       "       [-4.37052667e-01],\n",
       "       [-1.63638189e-01],\n",
       "       [ 1.32375225e-01],\n",
       "       [ 2.79195607e-01],\n",
       "       [-3.90646875e-01],\n",
       "       [-1.59246877e-01],\n",
       "       [ 1.65170252e-01],\n",
       "       [ 1.72080949e-01],\n",
       "       [-3.74122679e-01],\n",
       "       [-1.23080850e-01],\n",
       "       [ 1.10589042e-01],\n",
       "       [ 2.71216720e-01],\n",
       "       [-3.04499924e-01],\n",
       "       [-1.60656422e-02],\n",
       "       [ 2.21792296e-01],\n",
       "       [ 3.36959541e-01],\n",
       "       [-2.06284687e-01],\n",
       "       [ 6.72360417e-03],\n",
       "       [ 2.51784980e-01],\n",
       "       [ 3.01545858e-01],\n",
       "       [-3.91700447e-01],\n",
       "       [-3.14857870e-01],\n",
       "       [ 4.11572844e-01],\n",
       "       [-3.22664157e-02],\n",
       "       [-3.26219797e-01],\n",
       "       [-1.24526843e-01],\n",
       "       [ 3.60529065e-01],\n",
       "       [ 8.26422572e-02],\n",
       "       [-1.22013360e-01],\n",
       "       [ 1.15569428e-01],\n",
       "       [ 2.19637379e-01],\n",
       "       [ 2.17219338e-01],\n",
       "       [-4.32083309e-01],\n",
       "       [ 1.19643316e-01],\n",
       "       [ 1.69550136e-01],\n",
       "       [ 1.82208523e-01],\n",
       "       [-3.37897599e-01],\n",
       "       [ 8.95729661e-02],\n",
       "       [ 2.18579173e-01],\n",
       "       [ 2.35906765e-01],\n",
       "       [-3.42470258e-01],\n",
       "       [ 1.99916229e-01],\n",
       "       [ 2.10186377e-01],\n",
       "       [ 2.58743227e-01],\n",
       "       [-3.84830415e-01],\n",
       "       [-2.68441409e-01],\n",
       "       [ 2.62212366e-01],\n",
       "       [ 2.08188370e-01],\n",
       "       [-5.31426013e-01],\n",
       "       [-4.64931309e-01],\n",
       "       [ 2.51871556e-01],\n",
       "       [ 2.27466077e-01],\n",
       "       [-5.44138253e-01],\n",
       "       [-4.38639641e-01],\n",
       "       [ 2.06440434e-01],\n",
       "       [ 8.87171626e-02],\n",
       "       [-4.69971836e-01],\n",
       "       [-4.14622307e-01],\n",
       "       [ 2.57512838e-01],\n",
       "       [-5.08268252e-02],\n",
       "       [-4.77439642e-01],\n",
       "       [-5.01456320e-01],\n",
       "       [ 2.98038304e-01],\n",
       "       [-3.92471611e-01],\n",
       "       [-4.48180020e-01],\n",
       "       [-4.79567587e-01],\n",
       "       [ 3.21350306e-01],\n",
       "       [-4.03626263e-01],\n",
       "       [-3.69584858e-01],\n",
       "       [-4.77339447e-01],\n",
       "       [ 2.66982973e-01],\n",
       "       [-1.17490858e-01],\n",
       "       [-3.83289516e-01],\n",
       "       [-4.01945949e-01],\n",
       "       [ 2.51131117e-01],\n",
       "       [-3.45676124e-01],\n",
       "       [-3.76981199e-01],\n",
       "       [-3.83114040e-01],\n",
       "       [ 3.03729713e-01],\n",
       "       [-3.68530452e-01],\n",
       "       [-3.99660766e-01],\n",
       "       [-4.17465031e-01],\n",
       "       [ 3.09945375e-01],\n",
       "       [-3.50107074e-01],\n",
       "       [-3.49273384e-01],\n",
       "       [-5.05748570e-01],\n",
       "       [ 2.99012959e-01],\n",
       "       [-3.41377676e-01],\n",
       "       [-3.96538794e-01],\n",
       "       [-5.60285270e-01],\n",
       "       [ 2.84537971e-01],\n",
       "       [-5.30325234e-01],\n",
       "       [-3.89105260e-01],\n",
       "       [-4.38169420e-01],\n",
       "       [ 3.14919591e-01],\n",
       "       [-4.28501666e-01],\n",
       "       [-4.81712878e-01],\n",
       "       [-4.65483725e-01],\n",
       "       [ 3.56310666e-01],\n",
       "       [-4.28102255e-01],\n",
       "       [-4.92886722e-01],\n",
       "       [-4.75084424e-01],\n",
       "       [ 3.51778269e-01],\n",
       "       [-4.37114418e-01],\n",
       "       [-3.81151736e-01],\n",
       "       [-5.30451715e-01],\n",
       "       [ 3.40629399e-01],\n",
       "       [-4.53497320e-01],\n",
       "       [-4.04124081e-01],\n",
       "       [-4.21172261e-01],\n",
       "       [ 3.29432249e-01],\n",
       "       [-1.75034001e-01],\n",
       "       [-3.74079883e-01],\n",
       "       [-3.66141677e-01],\n",
       "       [ 2.67970890e-01],\n",
       "       [-2.26847053e-01],\n",
       "       [-3.29203427e-01],\n",
       "       [-4.20515537e-01],\n",
       "       [ 2.38777816e-01],\n",
       "       [-3.20335358e-01],\n",
       "       [-3.65333140e-01],\n",
       "       [-4.27286863e-01],\n",
       "       [ 3.22454631e-01],\n",
       "       [-1.71454266e-01],\n",
       "       [-3.99481356e-01],\n",
       "       [-5.19740403e-01],\n",
       "       [ 3.09709191e-01],\n",
       "       [-2.14500129e-02],\n",
       "       [-4.49243724e-01],\n",
       "       [-5.27711213e-01],\n",
       "       [ 3.41100276e-01],\n",
       "       [-2.94936821e-02],\n",
       "       [-4.99791920e-01],\n",
       "       [-4.43343639e-01],\n",
       "       [ 2.35757589e-01],\n",
       "       [-1.00491801e-02],\n",
       "       [-4.99555886e-01],\n",
       "       [-4.16904867e-01],\n",
       "       [ 3.16297770e-01],\n",
       "       [ 8.16021711e-02],\n",
       "       [-4.48407829e-01],\n",
       "       [-4.82276320e-01],\n",
       "       [ 2.84352988e-01],\n",
       "       [ 1.22867664e-02],\n",
       "       [-4.87496555e-01],\n",
       "       [-4.81659472e-01],\n",
       "       [ 2.88625300e-01],\n",
       "       [ 1.23574277e-02],\n",
       "       [-5.75783908e-01],\n",
       "       [-4.39448714e-01],\n",
       "       [ 2.51831323e-01],\n",
       "       [ 1.74901918e-01],\n",
       "       [-4.57375586e-01],\n",
       "       [-3.71639013e-01],\n",
       "       [ 1.91858187e-01],\n",
       "       [ 1.50759414e-01],\n",
       "       [-4.16658700e-01],\n",
       "       [-3.98982078e-01],\n",
       "       [ 2.47658268e-01],\n",
       "       [ 2.07406774e-01],\n",
       "       [-4.56216395e-01],\n",
       "       [-3.85507464e-01],\n",
       "       [ 2.42327467e-01],\n",
       "       [ 2.28657424e-01],\n",
       "       [-4.40170109e-01],\n",
       "       [-4.00747389e-01],\n",
       "       [ 2.90551662e-01],\n",
       "       [ 1.89997181e-01],\n",
       "       [-5.33938408e-01],\n",
       "       [-4.84614909e-01],\n",
       "       [ 2.86158383e-01],\n",
       "       [ 1.63386390e-01],\n",
       "       [-5.75882256e-01],\n",
       "       [-3.85060966e-01],\n",
       "       [ 1.97811440e-01],\n",
       "       [ 1.74701899e-01],\n",
       "       [-4.80529308e-01],\n",
       "       [-1.56027377e-01],\n",
       "       [ 2.61169672e-01],\n",
       "       [ 1.90460533e-01],\n",
       "       [-4.72949207e-01],\n",
       "       [-3.88438582e-01],\n",
       "       [ 2.71343887e-01],\n",
       "       [ 1.54966921e-01],\n",
       "       [-4.61163878e-01],\n",
       "       [-3.72095764e-01],\n",
       "       [ 3.04771245e-01],\n",
       "       [ 1.98481381e-01],\n",
       "       [-5.19185722e-01],\n",
       "       [ 3.68099287e-02],\n",
       "       [ 2.83211112e-01],\n",
       "       [ 2.08866641e-01],\n",
       "       [-4.65862215e-01],\n",
       "       [ 1.03811055e-01],\n",
       "       [ 1.86544046e-01],\n",
       "       [ 2.11590171e-01],\n",
       "       [-3.68844777e-01],\n",
       "       [ 5.67478687e-02],\n",
       "       [ 2.10975707e-01],\n",
       "       [ 2.15538308e-01],\n",
       "       [-3.88609469e-01],\n",
       "       [ 1.62022188e-01],\n",
       "       [ 2.37107769e-01],\n",
       "       [ 2.27537557e-01],\n",
       "       [-4.94183004e-01],\n",
       "       [ 7.46875852e-02],\n",
       "       [ 2.70698607e-01],\n",
       "       [ 2.48216882e-01],\n",
       "       [-5.14460742e-01],\n",
       "       [-3.13265413e-01],\n",
       "       [ 2.89393425e-01],\n",
       "       [ 2.25022733e-01],\n",
       "       [-5.43478489e-01],\n",
       "       [-4.09703374e-01],\n",
       "       [ 2.30903566e-01],\n",
       "       [ 1.80003136e-01],\n",
       "       [-4.55028117e-01],\n",
       "       [-4.26049769e-01],\n",
       "       [ 2.74681479e-01],\n",
       "       [ 1.82992503e-01],\n",
       "       [-4.29658592e-01],\n",
       "       [-4.50975478e-01],\n",
       "       [ 3.32236290e-01],\n",
       "       [ 9.58486944e-02],\n",
       "       [-4.33413684e-01],\n",
       "       [-5.20419657e-01],\n",
       "       [ 3.17332447e-01],\n",
       "       [-1.88345388e-01],\n",
       "       [-4.24495757e-01],\n",
       "       [-4.99968588e-01],\n",
       "       [ 3.20991844e-01],\n",
       "       [-2.76963353e-01],\n",
       "       [-4.20202196e-01],\n",
       "       [-3.91227901e-01],\n",
       "       [ 3.26494455e-01],\n",
       "       [-3.35056394e-01],\n",
       "       [-4.09538805e-01],\n",
       "       [-4.13064957e-01],\n",
       "       [ 3.58225286e-01],\n",
       "       [-3.63070905e-01],\n",
       "       [-3.86644065e-01],\n",
       "       [-4.16106641e-01],\n",
       "       [ 3.54169607e-01],\n",
       "       [-2.29862288e-01],\n",
       "       [-4.05216515e-01],\n",
       "       [-5.65932870e-01],\n",
       "       [ 3.36723864e-01],\n",
       "       [ 1.30577520e-01],\n",
       "       [-5.08144200e-01],\n",
       "       [-4.62449491e-01],\n",
       "       [ 3.21815014e-01],\n",
       "       [ 1.87181100e-01],\n",
       "       [-5.27841628e-01],\n",
       "       [-3.89608145e-01],\n",
       "       [ 2.67372221e-01],\n",
       "       [ 1.89786345e-01],\n",
       "       [-4.92080986e-01],\n",
       "       [-1.29774615e-01],\n",
       "       [ 2.13061884e-01],\n",
       "       [ 1.91695184e-01],\n",
       "       [-4.14510429e-01],\n",
       "       [ 2.45407224e-02],\n",
       "       [ 3.14119309e-01],\n",
       "       [ 1.68404773e-01],\n",
       "       [-4.03142869e-01],\n",
       "       [ 5.89014143e-02],\n",
       "       [ 2.71581441e-01],\n",
       "       [ 1.86610892e-01],\n",
       "       [-4.67565536e-01],\n",
       "       [ 8.12006295e-02],\n",
       "       [ 2.22655863e-01],\n",
       "       [ 2.32381836e-01],\n",
       "       [-4.92529333e-01],\n",
       "       [ 2.30957121e-02],\n",
       "       [ 1.80445269e-01],\n",
       "       [ 1.94362000e-01],\n",
       "       [-3.93044531e-01],\n",
       "       [-3.69574368e-01],\n",
       "       [ 2.74322212e-01],\n",
       "       [ 1.86667040e-01],\n",
       "       [-4.21572387e-01],\n",
       "       [-4.51953918e-01],\n",
       "       [ 2.85742551e-01],\n",
       "       [ 2.08069310e-01],\n",
       "       [-3.73098552e-01],\n",
       "       [-5.35135984e-01],\n",
       "       [ 3.58828664e-01],\n",
       "       [ 1.06683277e-01],\n",
       "       [-4.67899501e-01],\n",
       "       [-5.12517154e-01],\n",
       "       [ 4.00761008e-01],\n",
       "       [ 2.71573812e-02],\n",
       "       [-5.21080911e-01],\n",
       "       [-4.70999241e-01],\n",
       "       [ 3.05685550e-01],\n",
       "       [-2.59667009e-01],\n",
       "       [-4.71061885e-01],\n",
       "       [-4.30092752e-01],\n",
       "       [ 3.51089478e-01],\n",
       "       [ 6.15163706e-04],\n",
       "       [-4.24369633e-01],\n",
       "       [-4.59952176e-01],\n",
       "       [ 3.27135563e-01],\n",
       "       [ 1.37319252e-01],\n",
       "       [-4.32107031e-01],\n",
       "       [-1.56345367e-01],\n",
       "       [ 3.36494446e-01],\n",
       "       [ 2.01566532e-01],\n",
       "       [-5.49780130e-01],\n",
       "       [ 1.53926402e-01],\n",
       "       [ 2.50891626e-01],\n",
       "       [ 2.10927263e-01],\n",
       "       [-4.98774946e-01],\n",
       "       [ 1.69699296e-01],\n",
       "       [ 1.53571740e-01],\n",
       "       [ 3.19366783e-01],\n",
       "       [-3.40243816e-01],\n",
       "       [ 2.11396098e-01],\n",
       "       [ 2.11407021e-01],\n",
       "       [ 3.13062370e-01],\n",
       "       [-2.53532648e-01],\n",
       "       [ 2.40441665e-01],\n",
       "       [ 1.32556781e-01],\n",
       "       [ 3.64073902e-01],\n",
       "       [-1.48561031e-01],\n",
       "       [ 2.28198513e-01],\n",
       "       [ 2.22736761e-01],\n",
       "       [ 4.49859917e-01],\n",
       "       [-2.09596545e-01],\n",
       "       [ 1.95141003e-01],\n",
       "       [ 1.55838534e-01],\n",
       "       [ 4.25118357e-01],\n",
       "       [ 8.89347047e-02],\n",
       "       [ 3.19183350e-01],\n",
       "       [-3.77448350e-01],\n",
       "       [ 4.80175525e-01],\n",
       "       [-6.56702518e-02],\n",
       "       [ 4.63128656e-01],\n",
       "       [-3.61477852e-01],\n",
       "       [ 6.48824394e-01],\n",
       "       [ 1.24171935e-01],\n",
       "       [ 2.64942765e-01],\n",
       "       [-1.91849574e-01],\n",
       "       [ 5.08681238e-01],\n",
       "       [-2.01391146e-01],\n",
       "       [ 1.93971500e-01],\n",
       "       [-1.57755420e-01],\n",
       "       [ 4.17690098e-01],\n",
       "       [-1.89557642e-01],\n",
       "       [ 2.61086911e-01],\n",
       "       [-1.92962959e-01],\n",
       "       [ 3.58912289e-01],\n",
       "       [-2.30467126e-01],\n",
       "       [ 3.15074064e-02],\n",
       "       [-8.81754756e-02],\n",
       "       [ 3.17008615e-01],\n",
       "       [-2.47912481e-01],\n",
       "       [-4.96539026e-02],\n",
       "       [ 4.57413644e-02],\n",
       "       [ 3.18185568e-01],\n",
       "       [-2.78185666e-01],\n",
       "       [-1.00576952e-01],\n",
       "       [ 7.85976499e-02],\n",
       "       [ 3.62019598e-01],\n",
       "       [-3.25023949e-01],\n",
       "       [-1.03567407e-01],\n",
       "       [ 1.77102372e-01],\n",
       "       [ 3.26580614e-01],\n",
       "       [-3.56853664e-01],\n",
       "       [-1.30472377e-01],\n",
       "       [ 2.09310457e-01],\n",
       "       [ 2.65788317e-01],\n",
       "       [-4.25350010e-01],\n",
       "       [-9.53441709e-02],\n",
       "       [ 1.23439327e-01],\n",
       "       [ 2.83130229e-01],\n",
       "       [-4.00847793e-01],\n",
       "       [-1.75995752e-01],\n",
       "       [ 1.55900165e-01],\n",
       "       [ 3.12734365e-01],\n",
       "       [-4.26485240e-01],\n",
       "       [-1.75388157e-01],\n",
       "       [ 1.28723457e-01],\n",
       "       [ 3.11841697e-01],\n",
       "       [-3.62268090e-01],\n",
       "       [-1.78052589e-01],\n",
       "       [ 1.12329736e-01],\n",
       "       [ 2.53212392e-01],\n",
       "       [-3.84019077e-01],\n",
       "       [-1.44522771e-01],\n",
       "       [ 1.76811352e-01],\n",
       "       [ 2.69774377e-01],\n",
       "       [-4.04222071e-01],\n",
       "       [-5.86988777e-02],\n",
       "       [ 4.74367291e-02],\n",
       "       [ 3.58646274e-01],\n",
       "       [-3.66003573e-01],\n",
       "       [-1.19459301e-01],\n",
       "       [ 3.48123759e-02],\n",
       "       [ 3.04107487e-01],\n",
       "       [-3.98570120e-01],\n",
       "       [-1.07259020e-01],\n",
       "       [ 1.88229859e-01],\n",
       "       [ 2.30505869e-01],\n",
       "       [-3.24247539e-01],\n",
       "       [-1.34371325e-01],\n",
       "       [ 1.04234472e-01],\n",
       "       [ 2.35742331e-01],\n",
       "       [-2.91563749e-01],\n",
       "       [-9.49580520e-02],\n",
       "       [ 2.35844702e-02],\n",
       "       [ 3.00570905e-01],\n",
       "       [-2.96105385e-01],\n",
       "       [ 1.17230108e-02],\n",
       "       [-5.65522015e-02],\n",
       "       [ 3.40714931e-01],\n",
       "       [-2.87229538e-01],\n",
       "       [ 1.54003426e-01],\n",
       "       [-1.74892053e-01],\n",
       "       [ 3.57434571e-01],\n",
       "       [-2.19135270e-01],\n",
       "       [ 1.47529036e-01],\n",
       "       [-1.40102476e-01],\n",
       "       [ 3.52078915e-01],\n",
       "       [-2.62105227e-01],\n",
       "       [ 1.86790451e-01],\n",
       "       [-1.39549807e-01],\n",
       "       [ 3.71398926e-01],\n",
       "       [-2.14030191e-01],\n",
       "       [ 7.31396675e-02],\n",
       "       [-1.27411231e-01],\n",
       "       [ 3.96063149e-01],\n",
       "       [-2.29219481e-01],\n",
       "       [-6.07383922e-02],\n",
       "       [ 5.81956357e-02],\n",
       "       [ 3.62885594e-01],\n",
       "       [-2.61925161e-01],\n",
       "       [-1.45952299e-01],\n",
       "       [ 1.86961189e-01],\n",
       "       [ 2.59219736e-01],\n",
       "       [-3.95197392e-01],\n",
       "       [-3.01841706e-01],\n",
       "       [ 2.35500589e-01],\n",
       "       [ 1.68893933e-01],\n",
       "       [-5.03170192e-01],\n",
       "       [-2.75610030e-01],\n",
       "       [ 2.84743786e-01],\n",
       "       [-5.11732846e-02],\n",
       "       [-5.11273086e-01],\n",
       "       [-3.15302372e-01],\n",
       "       [ 3.13198864e-01],\n",
       "       [-1.19290307e-01],\n",
       "       [-4.61463690e-01],\n",
       "       [-3.72819662e-01],\n",
       "       [ 2.99124181e-01],\n",
       "       [-1.18359923e-01],\n",
       "       [-5.19220650e-01],\n",
       "       [-3.99939001e-01],\n",
       "       [ 3.83588731e-01],\n",
       "       [-9.43881124e-02],\n",
       "       [-5.59113085e-01],\n",
       "       [-3.69617343e-01],\n",
       "       [ 3.67253006e-01],\n",
       "       [-6.67976886e-02],\n",
       "       [-5.62230885e-01],\n",
       "       [-3.91981423e-01],\n",
       "       [ 3.23582709e-01],\n",
       "       [-9.59678739e-02],\n",
       "       [-4.97155011e-01],\n",
       "       [-3.41000676e-01],\n",
       "       [ 2.75567800e-01],\n",
       "       [-1.09945402e-01],\n",
       "       [-5.22130549e-01],\n",
       "       [-3.08535576e-01],\n",
       "       [ 3.20398927e-01],\n",
       "       [-1.02053553e-01],\n",
       "       [-5.43395460e-01],\n",
       "       [-2.85460293e-01],\n",
       "       [ 2.82539636e-01],\n",
       "       [-1.12808317e-01],\n",
       "       [-4.62234676e-01],\n",
       "       [-2.88654566e-01],\n",
       "       [ 3.14695477e-01],\n",
       "       [ 3.51480320e-02],\n",
       "       [-4.84078586e-01],\n",
       "       [-2.31307968e-01],\n",
       "       [ 2.41514251e-01],\n",
       "       [ 1.51962236e-01],\n",
       "       [-4.36101377e-01],\n",
       "       [-2.32205376e-01],\n",
       "       [ 2.40466326e-01],\n",
       "       [ 1.61002159e-01],\n",
       "       [-4.10638630e-01],\n",
       "       [-2.05222413e-01],\n",
       "       [ 2.26591721e-01],\n",
       "       [ 1.92611858e-01],\n",
       "       [-4.12102938e-01],\n",
       "       [-2.15464577e-01],\n",
       "       [ 2.19084159e-01],\n",
       "       [ 2.29571804e-01],\n",
       "       [-4.15651977e-01],\n",
       "       [-1.93881854e-01],\n",
       "       [ 2.56931514e-01],\n",
       "       [ 1.83319241e-01],\n",
       "       [-3.79429996e-01],\n",
       "       [-1.78663716e-01],\n",
       "       [ 1.90084353e-01],\n",
       "       [ 2.47254506e-01],\n",
       "       [-3.92916024e-01],\n",
       "       [-1.63330272e-01],\n",
       "       [ 1.19661316e-01],\n",
       "       [ 2.62253940e-01],\n",
       "       [-3.30494225e-01],\n",
       "       [-1.73339456e-01],\n",
       "       [ 5.75280339e-02],\n",
       "       [ 2.98002601e-01],\n",
       "       [-3.15879226e-01],\n",
       "       [-1.22666106e-01],\n",
       "       [ 7.71442652e-02],\n",
       "       [ 2.67858297e-01],\n",
       "       [-2.91334480e-01],\n",
       "       [-1.69374093e-01],\n",
       "       [ 1.77331522e-01],\n",
       "       [ 2.48603359e-01],\n",
       "       [-4.02375579e-01],\n",
       "       [-9.54418629e-02],\n",
       "       [ 9.77356881e-02],\n",
       "       [ 3.10415566e-01],\n",
       "       [-3.70682418e-01],\n",
       "       [-1.50229767e-01],\n",
       "       [ 1.26051113e-01],\n",
       "       [ 3.31081122e-01],\n",
       "       [-3.78115773e-01],\n",
       "       [-2.03078732e-01],\n",
       "       [ 2.33742788e-01],\n",
       "       [ 1.89058170e-01],\n",
       "       [-4.13894355e-01],\n",
       "       [-1.76648900e-01],\n",
       "       [ 2.41991520e-01],\n",
       "       [ 1.80743620e-01],\n",
       "       [-3.74824107e-01],\n",
       "       [-1.90204278e-01],\n",
       "       [ 1.87588528e-01],\n",
       "       [ 2.64067173e-01],\n",
       "       [-3.90415251e-01],\n",
       "       [-2.03535929e-01],\n",
       "       [ 1.88557759e-01],\n",
       "       [ 1.77833349e-01],\n",
       "       [-4.63267326e-01],\n",
       "       [-1.80151805e-01],\n",
       "       [ 1.68281421e-01],\n",
       "       [ 2.82593131e-01],\n",
       "       [-4.28131402e-01],\n",
       "       [-1.53505251e-01],\n",
       "       [ 1.66075423e-01],\n",
       "       [ 2.07712546e-01],\n",
       "       [-3.96022499e-01],\n",
       "       [-1.36185125e-01],\n",
       "       [ 1.67812243e-01],\n",
       "       [ 1.89184278e-01],\n",
       "       [-4.23137248e-01],\n",
       "       [-1.38463721e-01],\n",
       "       [ 1.66062549e-01],\n",
       "       [ 2.64113545e-01],\n",
       "       [-4.17011082e-01],\n",
       "       [-1.87545702e-01],\n",
       "       [ 2.69568145e-01],\n",
       "       [ 2.25478575e-01],\n",
       "       [-3.49895537e-01],\n",
       "       [-1.78099796e-01],\n",
       "       [ 1.33590028e-01],\n",
       "       [ 2.53529936e-01],\n",
       "       [-3.18374872e-01],\n",
       "       [-1.67831808e-01],\n",
       "       [ 8.20160210e-02],\n",
       "       [ 2.88554907e-01],\n",
       "       [-2.71066725e-01],\n",
       "       [-1.44329488e-01],\n",
       "       [ 7.23222643e-02],\n",
       "       [ 3.19907486e-01],\n",
       "       [-3.33014429e-01],\n",
       "       [-9.06882510e-02],\n",
       "       [-9.91617236e-03],\n",
       "       [ 2.70038664e-01],\n",
       "       [-3.10645580e-01],\n",
       "       [ 8.04624110e-02],\n",
       "       [-1.19253591e-01],\n",
       "       [ 3.11384618e-01],\n",
       "       [-2.20556602e-01],\n",
       "       [ 1.69718608e-01],\n",
       "       [-1.44591138e-01],\n",
       "       [ 4.21290815e-01],\n",
       "       [-2.06860974e-01],\n",
       "       [ 1.73059866e-01],\n",
       "       [-9.25768763e-02],\n",
       "       [ 3.90263736e-01],\n",
       "       [-1.51428923e-01],\n",
       "       [ 1.69563159e-01],\n",
       "       [-1.02569982e-01],\n",
       "       [ 4.07883853e-01],\n",
       "       [-1.74168989e-01],\n",
       "       [ 2.22487748e-01],\n",
       "       [-2.31826529e-01],\n",
       "       [ 4.81117010e-01],\n",
       "       [-1.14514425e-01],\n",
       "       [ 2.65852332e-01],\n",
       "       [-2.55572498e-01],\n",
       "       [ 5.03292143e-01],\n",
       "       [-9.99642164e-02],\n",
       "       [ 3.77699643e-01],\n",
       "       [-3.12814534e-01],\n",
       "       [ 5.39709508e-01],\n",
       "       [-8.53442587e-04],\n",
       "       [ 2.77130902e-01],\n",
       "       [-2.50927508e-01],\n",
       "       [ 5.46768665e-01],\n",
       "       [-1.35987261e-02],\n",
       "       [ 3.04476917e-01],\n",
       "       [-1.89434931e-01],\n",
       "       [ 5.40955722e-01],\n",
       "       [-1.32825062e-01],\n",
       "       [ 2.56663084e-01],\n",
       "       [-2.01892719e-01],\n",
       "       [ 5.31930983e-01],\n",
       "       [-1.59860149e-01],\n",
       "       [ 2.60005742e-01],\n",
       "       [-1.84582934e-01],\n",
       "       [ 4.25937295e-01],\n",
       "       [-1.37650236e-01],\n",
       "       [ 2.66693771e-01],\n",
       "       [-2.23055586e-01],\n",
       "       [ 4.83365834e-01],\n",
       "       [-1.41304389e-01],\n",
       "       [ 2.19683096e-01],\n",
       "       [-1.49281725e-01],\n",
       "       [ 4.06415641e-01],\n",
       "       [-1.88429579e-01],\n",
       "       [ 2.43028522e-01],\n",
       "       [-2.06981435e-01],\n",
       "       [ 3.74620199e-01],\n",
       "       [-1.80310681e-01],\n",
       "       [ 1.63357839e-01],\n",
       "       [-1.46393239e-01],\n",
       "       [ 4.27324474e-01],\n",
       "       [-2.15084270e-01],\n",
       "       [ 1.87336013e-01],\n",
       "       [-1.44021437e-01],\n",
       "       [ 4.48221713e-01],\n",
       "       [-1.80398598e-01],\n",
       "       [ 6.86867088e-02],\n",
       "       [-1.09578870e-01],\n",
       "       [ 3.74293089e-01],\n",
       "       [-2.23533913e-01],\n",
       "       [ 1.34983167e-01],\n",
       "       [-1.17348358e-01],\n",
       "       [ 3.34004432e-01],\n",
       "       [-1.50809303e-01],\n",
       "       [ 2.29532003e-01],\n",
       "       [-2.05982164e-01],\n",
       "       [ 3.92628998e-01],\n",
       "       [-1.33945718e-01],\n",
       "       [ 1.99033007e-01],\n",
       "       [-1.99475393e-01],\n",
       "       [ 3.74055207e-01],\n",
       "       [-1.59682021e-01],\n",
       "       [ 1.42479703e-01],\n",
       "       [-1.46907434e-01],\n",
       "       [ 3.56950879e-01],\n",
       "       [-1.95499554e-01],\n",
       "       [ 8.52602273e-02],\n",
       "       [-1.69582218e-01],\n",
       "       [ 3.31581533e-01],\n",
       "       [-2.19368502e-01],\n",
       "       [-2.98516527e-02],\n",
       "       [ 9.54564363e-02],\n",
       "       [ 3.62468302e-01],\n",
       "       [-2.88196981e-01],\n",
       "       [-1.17501616e-01],\n",
       "       [ 1.31745562e-01],\n",
       "       [ 2.57920712e-01],\n",
       "       [-2.85771072e-01],\n",
       "       [-1.12580016e-01],\n",
       "       [ 1.45646080e-01],\n",
       "       [ 2.64139354e-01],\n",
       "       [-3.11096430e-01],\n",
       "       [-1.77633882e-01],\n",
       "       [ 1.46256939e-01],\n",
       "       [ 2.20029131e-01],\n",
       "       [-2.78112769e-01],\n",
       "       [-1.81097850e-01],\n",
       "       [ 1.02267846e-01],\n",
       "       [ 2.30076179e-01],\n",
       "       [-2.96815157e-01],\n",
       "       [-2.09558949e-01],\n",
       "       [ 2.76165426e-01],\n",
       "       [ 1.87038228e-01],\n",
       "       [-3.74461114e-01],\n",
       "       [-1.60007030e-01],\n",
       "       [ 1.36060730e-01],\n",
       "       [ 2.50754774e-01],\n",
       "       [-3.36565256e-01],\n",
       "       [-1.62397131e-01],\n",
       "       [ 2.46806324e-01],\n",
       "       [ 1.83999673e-01],\n",
       "       [-3.28067482e-01],\n",
       "       [-1.54901877e-01],\n",
       "       [ 2.21598789e-01],\n",
       "       [ 1.43574253e-01],\n",
       "       [-2.28798553e-01],\n",
       "       [-9.57170799e-02],\n",
       "       [ 7.91636854e-02],\n",
       "       [ 2.48211652e-01],\n",
       "       [-3.22543979e-01],\n",
       "       [-1.15193442e-01],\n",
       "       [-1.26831338e-01],\n",
       "       [ 2.41183922e-01],\n",
       "       [-2.43478820e-01],\n",
       "       [ 7.31260926e-02],\n",
       "       [-6.89740628e-02],\n",
       "       [ 3.67759645e-01],\n",
       "       [-1.84394434e-01],\n",
       "       [-8.16042423e-02],\n",
       "       [-7.15110525e-02],\n",
       "       [ 3.38238508e-01],\n",
       "       [-1.90812990e-01],\n",
       "       [ 1.44567683e-01],\n",
       "       [-7.46367872e-02],\n",
       "       [ 3.56443703e-01],\n",
       "       [-1.91647157e-01],\n",
       "       [ 2.54593134e-01],\n",
       "       [-9.47093815e-02],\n",
       "       [ 4.03557241e-01],\n",
       "       [-9.06540006e-02],\n",
       "       [ 2.71791458e-01],\n",
       "       [-9.34464186e-02],\n",
       "       [ 5.09492815e-01],\n",
       "       [ 8.09612777e-03],\n",
       "       [ 3.29350591e-01],\n",
       "       [-7.24649280e-02],\n",
       "       [ 5.82395792e-01],\n",
       "       [ 5.88859692e-02],\n",
       "       [ 3.51372421e-01],\n",
       "       [-1.37727782e-01],\n",
       "       [ 5.86655319e-01],\n",
       "       [ 9.14509967e-02],\n",
       "       [ 3.00590843e-01],\n",
       "       [-1.02560565e-01],\n",
       "       [ 6.18555307e-01],\n",
       "       [ 1.33059546e-01],\n",
       "       [ 3.80854219e-01],\n",
       "       [-1.78660199e-01],\n",
       "       [ 6.35855317e-01],\n",
       "       [ 1.07225671e-01],\n",
       "       [ 3.35977376e-01],\n",
       "       [-1.43432721e-01],\n",
       "       [ 5.51909804e-01],\n",
       "       [ 1.28350314e-03],\n",
       "       [ 2.71860212e-01],\n",
       "       [-1.05684564e-01],\n",
       "       [ 5.31016767e-01],\n",
       "       [-2.35637277e-02],\n",
       "       [ 3.19470048e-01],\n",
       "       [-1.44915029e-01],\n",
       "       [ 5.41892111e-01],\n",
       "       [ 1.06786778e-02],\n",
       "       [ 2.64351368e-01],\n",
       "       [-1.31779775e-01],\n",
       "       [ 5.41287363e-01],\n",
       "       [-1.23204151e-02],\n",
       "       [ 2.65353709e-01],\n",
       "       [-1.39592871e-01],\n",
       "       [ 5.21505535e-01],\n",
       "       [ 4.27202787e-03],\n",
       "       [ 2.32206628e-01],\n",
       "       [ 7.51063824e-02],\n",
       "       [ 4.12019014e-01],\n",
       "       [-1.41218290e-01],\n",
       "       [ 2.23334044e-01],\n",
       "       [ 9.31964368e-02],\n",
       "       [ 3.80007207e-01],\n",
       "       [-1.96451828e-01],\n",
       "       [ 1.25977248e-01],\n",
       "       [ 1.47818580e-01],\n",
       "       [ 3.52478027e-01],\n",
       "       [-3.15473557e-01],\n",
       "       [-2.04213001e-02],\n",
       "       [ 1.77544191e-01],\n",
       "       [ 2.60005087e-01],\n",
       "       [-3.93478990e-01],\n",
       "       [-7.92342871e-02],\n",
       "       [ 2.23633751e-01],\n",
       "       [ 2.53035873e-01],\n",
       "       [-3.77869904e-01],\n",
       "       [-1.39122412e-01],\n",
       "       [ 2.12013856e-01],\n",
       "       [ 1.73238710e-01],\n",
       "       [-4.53460157e-01],\n",
       "       [-2.05434129e-01],\n",
       "       [ 2.19716921e-01],\n",
       "       [ 2.38875702e-01],\n",
       "       [-4.81247962e-01],\n",
       "       [-2.66896635e-01],\n",
       "       [ 2.88365334e-01],\n",
       "       [ 1.91727713e-01],\n",
       "       [-5.54609358e-01],\n",
       "       [-3.32968414e-01],\n",
       "       [ 2.79779315e-01],\n",
       "       [ 1.57570943e-01],\n",
       "       [-5.73562205e-01],\n",
       "       [-3.76452148e-01],\n",
       "       [ 3.16070437e-01],\n",
       "       [ 1.40972540e-01],\n",
       "       [-5.33340991e-01],\n",
       "       [-3.26927245e-01],\n",
       "       [ 3.39235872e-01],\n",
       "       [ 4.56369594e-02],\n",
       "       [-5.31312644e-01],\n",
       "       [-2.07464918e-01],\n",
       "       [ 3.30376089e-01],\n",
       "       [ 1.27462551e-01],\n",
       "       [-5.32660067e-01],\n",
       "       [-2.70173669e-01],\n",
       "       [ 2.53942728e-01],\n",
       "       [ 2.01169521e-01],\n",
       "       [-5.02156794e-01],\n",
       "       [-1.36530057e-01],\n",
       "       [ 3.08595300e-01],\n",
       "       [ 1.47258624e-01],\n",
       "       [-5.70844769e-01]], dtype=float32)"
      ]
     },
     "execution_count": 32,
     "metadata": {},
     "output_type": "execute_result"
    }
   ],
   "source": [
    "preds"
   ]
  },
  {
   "cell_type": "markdown",
   "metadata": {},
   "source": [
    "## Check the min-max values from the predictions"
   ]
  },
  {
   "cell_type": "code",
   "execution_count": 33,
   "metadata": {},
   "outputs": [
    {
     "data": {
      "text/plain": [
       "array([0.6488244], dtype=float32)"
      ]
     },
     "execution_count": 33,
     "metadata": {},
     "output_type": "execute_result"
    }
   ],
   "source": [
    "max(preds)"
   ]
  },
  {
   "cell_type": "code",
   "execution_count": 34,
   "metadata": {},
   "outputs": [
    {
     "data": {
      "text/plain": [
       "array([-0.57588226], dtype=float32)"
      ]
     },
     "execution_count": 34,
     "metadata": {},
     "output_type": "execute_result"
    }
   ],
   "source": [
    "min(preds)"
   ]
  },
  {
   "cell_type": "markdown",
   "metadata": {},
   "source": [
    "## Save model"
   ]
  },
  {
   "cell_type": "code",
   "execution_count": 35,
   "metadata": {},
   "outputs": [],
   "source": [
    "model.save('model_final.h5')"
   ]
  },
  {
   "cell_type": "markdown",
   "metadata": {},
   "source": [
    "## In drive.py file add:"
   ]
  },
  {
   "cell_type": "code",
   "execution_count": null,
   "metadata": {},
   "outputs": [],
   "source": [
    "def train_target_gen(image):\n",
    "    image_array = np.asarray(image)\n",
    "    image_array=cv2.cvtColor(image_array, cv2.COLOR_BGR2RGB)\n",
    "    \n",
    "    image_array = image_array[90:140,:,:]\n",
    "    image_array = image_array[:-20,:,:]\n",
    "    image_array = cv2.resize(image_array, (75,75))\n",
    "    \n",
    "    image_array = image_array.reshape(-1, 75, 75 , 3)\n",
    "\n",
    "    yield (image_array/255)"
   ]
  },
  {
   "cell_type": "markdown",
   "metadata": {},
   "source": [
    "## In telemetry function insert"
   ]
  },
  {
   "cell_type": "code",
   "execution_count": null,
   "metadata": {},
   "outputs": [],
   "source": [
    " steering_angle = float(model.predict_generator(train_target_gen(image), steps=1))"
   ]
  },
  {
   "cell_type": "markdown",
   "metadata": {},
   "source": [
    "## Final notes: The model is able to finish the track in forward mode and backwards just after 3 epochs of training. Backwards meaning you have to turn the car around the other way of the track in the beginning then start in autonomous mode."
   ]
  },
  {
   "cell_type": "code",
   "execution_count": null,
   "metadata": {},
   "outputs": [],
   "source": []
  }
 ],
 "metadata": {
  "kernelspec": {
   "display_name": "Python 3",
   "language": "python",
   "name": "python3"
  },
  "language_info": {
   "codemirror_mode": {
    "name": "ipython",
    "version": 3
   },
   "file_extension": ".py",
   "mimetype": "text/x-python",
   "name": "python",
   "nbconvert_exporter": "python",
   "pygments_lexer": "ipython3",
   "version": "3.6.6"
  }
 },
 "nbformat": 4,
 "nbformat_minor": 2
}
